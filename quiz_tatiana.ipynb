{
 "cells": [
  {
   "cell_type": "code",
   "execution_count": 67,
   "metadata": {},
   "outputs": [
    {
     "name": "stdout",
     "output_type": "stream",
     "text": [
      "-----------------WELCOME TO THE QUIZ!-----------------\n",
      "You have 3 attempts.\n",
      "\n",
      "Your answer is london\n",
      "\n",
      "Your answer is paris\n",
      "\n",
      "Your answer is ma\n",
      "You have 2 attempts left.\n",
      "Your answer is d\n",
      "You have 1 attempts left.\n",
      "Your answer is madrid\n",
      "\n",
      "\n",
      "WELL DONE! YOU WON!\n"
     ]
    }
   ],
   "source": [
    "# the function allows to play the QUIZ; it takes three arguments: a number of attempts, a question, and an answer\n",
    "def ask_question(nb_attempts, question, answer):\n",
    "    if nb_attempts > 0: # if we still have attempts\n",
    "        user_answer = input(question).lower() # ask a question and put the answer in lowercase\n",
    "        print(\"Your answer is {}\".format(user_answer)) # print the user's answer\n",
    "        \n",
    "        while user_answer != answer: # the user's answer is not correct --> do this loop\n",
    "            nb_attempts -= 1 # attempts decrement every time the user gives a wrong answer\n",
    "            print(\"You have {} attempts left.\".format(nb_attempts)) # the number of attempts left\n",
    "\n",
    "            if nb_attempts == 0: # if there are no more attempts\n",
    "                print(\"Sorry! You failed.\") # print the failure message\n",
    "                return nb_attempts # and return the number of attempts\n",
    "            user_answer = input(question).lower() # else, ask the same question again and put the answer in lowercase\n",
    "            print(\"Your answer is {}\".format(user_answer)) # print the user's answer\n",
    "\n",
    "    print()\n",
    "    return nb_attempts # return the number of attempts\n",
    "\n",
    "\n",
    "print(\"-----------------WELCOME TO THE QUIZ!-----------------\")\n",
    "print(\"You have 3 attempts.\")\n",
    "print()\n",
    "\n",
    "# define a list of questions and the correct answers\n",
    "quiz_list = [\n",
    "    (\"What is the capital of the United Kingdom?\", \"london\"),\n",
    "    (\"What is the capital of France?\", \"paris\"),\n",
    "    (\"What is the capital of Spain?\", \"madrid\")\n",
    "]\n",
    "\n",
    "# a user has three attempts\n",
    "nb_attempts = 3\n",
    "\n",
    "# for each question in the list quiz_list\n",
    "for q, a in quiz_list:\n",
    "    nb_attempts = ask_question(nb_attempts, q, a) # call the above function\n",
    "\n",
    "if nb_attempts > 0: # if we still have attempts\n",
    "    print()\n",
    "    print(\"WELL DONE! YOU WON!\") # print the congrats message"
   ]
  },
  {
   "cell_type": "code",
   "execution_count": null,
   "metadata": {},
   "outputs": [],
   "source": []
  }
 ],
 "metadata": {
  "kernelspec": {
   "display_name": "base",
   "language": "python",
   "name": "python3"
  },
  "language_info": {
   "codemirror_mode": {
    "name": "ipython",
    "version": 3
   },
   "file_extension": ".py",
   "mimetype": "text/x-python",
   "name": "python",
   "nbconvert_exporter": "python",
   "pygments_lexer": "ipython3",
   "version": "3.9.12"
  },
  "orig_nbformat": 4,
  "vscode": {
   "interpreter": {
    "hash": "34b9de834f38ee9a6ce86ceda3248b689782f468cb0d176dfe7bd8188190e0ac"
   }
  }
 },
 "nbformat": 4,
 "nbformat_minor": 2
}
